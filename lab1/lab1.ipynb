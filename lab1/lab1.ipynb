{
 "cells": [
  {
   "cell_type": "code",
   "execution_count": 1,
   "metadata": {
    "collapsed": true
   },
   "outputs": [],
   "source": [
    "import numpy as np\n",
    "import tensorflow as tf"
   ]
  },
  {
   "cell_type": "code",
   "execution_count": 2,
   "outputs": [
    {
     "name": "stderr",
     "output_type": "stream",
     "text": [
      "2021-10-18 22:39:10.125292: I tensorflow/core/platform/cpu_feature_guard.cc:142] This TensorFlow binary is optimized with oneAPI Deep Neural Network Library (oneDNN) to use the following CPU instructions in performance-critical operations:  AVX2 FMA\n",
      "To enable them in other operations, rebuild TensorFlow with the appropriate compiler flags.\n"
     ]
    }
   ],
   "source": [
    "def load_mnist(path, kind='train'):\n",
    "    import os\n",
    "\n",
    "    \"\"\"Load MNIST data from `path`\"\"\"\n",
    "    labels_path = os.path.join(path, f'{kind}-labels-idx1-ubyte')\n",
    "    images_path = os.path.join(path, f'{kind}-images-idx3-ubyte')\n",
    "\n",
    "    with open(labels_path, 'rb') as labels_file:\n",
    "        labels = np.frombuffer(labels_file.read(), dtype=np.uint8,\n",
    "                               offset=8)\n",
    "\n",
    "    with open(images_path, 'rb') as images_file:\n",
    "        images = np.frombuffer(images_file.read(), dtype=np.uint8,\n",
    "                               offset=16).reshape(len(labels), 28, 28)\n",
    "\n",
    "    return tf.convert_to_tensor(images), tf.convert_to_tensor(labels)\n",
    "\n",
    "def filter_mnist(images, labels, classes):\n",
    "    classes = tf.reshape(classes, [-1, 1])\n",
    "    labels = tf.reshape(labels, [1, -1])\n",
    "\n",
    "    eq = tf.equal(labels, classes)\n",
    "    mask = tf.reduce_any(eq, 0)\n",
    "\n",
    "    labels = tf.reshape(labels, [-1, 1])\n",
    "    return tf.boolean_mask(images, mask), tf.boolean_mask(labels, mask)\n",
    "\n",
    "def load_data(kind='train', path='zalando', classes=tf.constant([3, 5], dtype=tf.uint8)):\n",
    "    images, labels = load_mnist(path, kind)\n",
    "    return filter_mnist(images, labels, classes)"
   ],
   "metadata": {
    "collapsed": false,
    "pycharm": {
     "name": "#%%\n"
    }
   }
  },
  {
   "cell_type": "code",
   "execution_count": 3,
   "outputs": [],
   "source": [
    "train_images, train_labels = load_data()\n",
    "test_images, test_labels = load_data(kind='t10k')"
   ],
   "metadata": {
    "collapsed": false,
    "pycharm": {
     "name": "#%%\n"
    }
   }
  },
  {
   "cell_type": "code",
   "execution_count": null,
   "outputs": [],
   "source": [
    "import matplotlib.pyplot as plt\n",
    "\n",
    "img = 1.0 - train_images[0].numpy() / 255.0\n",
    "plt.imshow(img, cmap='gray')"
   ],
   "metadata": {
    "collapsed": false,
    "pycharm": {
     "name": "#%%\n"
    }
   }
  },
  {
   "cell_type": "code",
   "execution_count": 104,
   "outputs": [],
   "source": [
    "def normalize(images):\n",
    "    casted = tf.cast(tf.reshape(images, (images.shape[0], -1)), dtype=tf.float32)\n",
    "    norm = tf.linalg.norm(casted, axis=1)\n",
    "\n",
    "    return casted / tf.reshape(norm, [-1, 1])\n",
    "\n",
    "def map_labels(labels, zero_class=3):\n",
    "    condition = tf.equal(labels, tf.constant(zero_class, shape=labels.shape))\n",
    "    zeros = tf.zeros(labels.shape)\n",
    "    ones = tf.ones(labels.shape)\n",
    "\n",
    "    return tf.where(condition, zeros, ones)"
   ],
   "metadata": {
    "collapsed": false,
    "pycharm": {
     "name": "#%%\n"
    }
   }
  },
  {
   "cell_type": "code",
   "execution_count": 106,
   "outputs": [],
   "source": [
    "from tensorflow import keras\n",
    "\n",
    "## todo -> take it from here :)\n",
    "class Linear(keras.layers.Layer):\n",
    "    def __init__(self, input_dims, output_dims):\n",
    "        super(Linear, self).__init__()\n",
    "\n",
    "        w_init = tf.random_uniform_initializer(0.0, 1.0)\n",
    "        self.w = tf.Variable(\n",
    "            initial_value=w_init(shape=[input_dims, output_dims], dtype=tf.float32),\n",
    "            trainable=True\n",
    "        )\n",
    "\n",
    "        b_init = tf.zeros_initializer()\n",
    "        self.b = tf.Variable(\n",
    "            initial_value=b_init(shape=[input_dims], dtype=tf.float32),\n",
    "            trainable=True\n",
    "        )\n",
    "\n",
    "    def call(self, inputs):\n",
    "            return tf.matmul(inputs, self.w) + self.b"
   ],
   "metadata": {
    "collapsed": false,
    "pycharm": {
     "name": "#%%\n"
    }
   }
  },
  {
   "cell_type": "code",
   "execution_count": null,
   "outputs": [],
   "source": [],
   "metadata": {
    "collapsed": false,
    "pycharm": {
     "name": "#%%\n"
    }
   }
  },
  {
   "cell_type": "code",
   "execution_count": 105,
   "outputs": [
    {
     "data": {
      "text/plain": "<tf.Tensor: shape=(1, 5), dtype=float32, numpy=array([[1., 0., 1., 1., 1.]], dtype=float32)>"
     },
     "execution_count": 105,
     "metadata": {},
     "output_type": "execute_result"
    }
   ],
   "source": [
    "classes = tf.constant([3, 5], dtype=tf.int32)\n",
    "classes = tf.reshape(classes, [-1, 1])\n",
    "labels = tf.constant([1, 3, 2, 5, 4])\n",
    "labels = tf.reshape(labels, [1, -1])\n",
    "\n",
    "res = tf.equal(labels, classes)\n",
    "reduced = tf.reduce_any(res, 0)\n",
    "\n",
    "res = map_labels(labels)\n",
    "res\n",
    "\n"
   ],
   "metadata": {
    "collapsed": false,
    "pycharm": {
     "name": "#%%\n"
    }
   }
  }
 ],
 "metadata": {
  "kernelspec": {
   "display_name": "Python 3",
   "language": "python",
   "name": "python3"
  },
  "language_info": {
   "codemirror_mode": {
    "name": "ipython",
    "version": 2
   },
   "file_extension": ".py",
   "mimetype": "text/x-python",
   "name": "python",
   "nbconvert_exporter": "python",
   "pygments_lexer": "ipython2",
   "version": "2.7.6"
  }
 },
 "nbformat": 4,
 "nbformat_minor": 0
}